{
 "cells": [
  {
   "cell_type": "code",
   "execution_count": 1,
   "id": "70124256",
   "metadata": {},
   "outputs": [
    {
     "data": {
      "text/html": [
       "<div>\n",
       "<style scoped>\n",
       "    .dataframe tbody tr th:only-of-type {\n",
       "        vertical-align: middle;\n",
       "    }\n",
       "\n",
       "    .dataframe tbody tr th {\n",
       "        vertical-align: top;\n",
       "    }\n",
       "\n",
       "    .dataframe thead th {\n",
       "        text-align: right;\n",
       "    }\n",
       "</style>\n",
       "<table border=\"1\" class=\"dataframe\">\n",
       "  <thead>\n",
       "    <tr style=\"text-align: right;\">\n",
       "      <th></th>\n",
       "      <th>Unnamed: 0</th>\n",
       "      <th>date</th>\n",
       "      <th>pseudoUserId</th>\n",
       "      <th>userName</th>\n",
       "      <th>title</th>\n",
       "      <th>review</th>\n",
       "      <th>rating</th>\n",
       "      <th>isEdited</th>\n",
       "      <th>country</th>\n",
       "      <th>applicationName</th>\n",
       "    </tr>\n",
       "  </thead>\n",
       "  <tbody>\n",
       "    <tr>\n",
       "      <th>0</th>\n",
       "      <td>0</td>\n",
       "      <td>2017-09-07 19:45:20</td>\n",
       "      <td>711916109592841231540</td>\n",
       "      <td>Re****II</td>\n",
       "      <td>Buggy</td>\n",
       "      <td>This app is rarely functional for being able t...</td>\n",
       "      <td>2</td>\n",
       "      <td>False</td>\n",
       "      <td>us</td>\n",
       "      <td>uber-request-a-ride</td>\n",
       "    </tr>\n",
       "    <tr>\n",
       "      <th>1</th>\n",
       "      <td>1</td>\n",
       "      <td>2017-09-07 21:58:23</td>\n",
       "      <td>194634079301738577104</td>\n",
       "      <td>pl****02</td>\n",
       "      <td>Deteriorating</td>\n",
       "      <td>Uber is slowly deteriorating in terms of custo...</td>\n",
       "      <td>1</td>\n",
       "      <td>False</td>\n",
       "      <td>us</td>\n",
       "      <td>uber-request-a-ride</td>\n",
       "    </tr>\n",
       "    <tr>\n",
       "      <th>2</th>\n",
       "      <td>2</td>\n",
       "      <td>2017-09-07 22:05:22</td>\n",
       "      <td>142799766719763824433</td>\n",
       "      <td>da**********re</td>\n",
       "      <td>Billed wrongly &amp; Won't let me update my card i...</td>\n",
       "      <td>Horrible!!! Not user friendly! Does not allow ...</td>\n",
       "      <td>1</td>\n",
       "      <td>False</td>\n",
       "      <td>us</td>\n",
       "      <td>uber-request-a-ride</td>\n",
       "    </tr>\n",
       "    <tr>\n",
       "      <th>3</th>\n",
       "      <td>3</td>\n",
       "      <td>2017-09-08 00:48:24</td>\n",
       "      <td>277271148707045434100</td>\n",
       "      <td>Na********uy</td>\n",
       "      <td>No to Uber</td>\n",
       "      <td>Another update (again). Still have to share my...</td>\n",
       "      <td>1</td>\n",
       "      <td>True</td>\n",
       "      <td>us</td>\n",
       "      <td>uber-request-a-ride</td>\n",
       "    </tr>\n",
       "    <tr>\n",
       "      <th>4</th>\n",
       "      <td>4</td>\n",
       "      <td>2017-09-08 01:38:01</td>\n",
       "      <td>129835059768817274330</td>\n",
       "      <td>Z***n</td>\n",
       "      <td>Stop tracking all the time</td>\n",
       "      <td>Listen to our feedback. Don't just give the ca...</td>\n",
       "      <td>1</td>\n",
       "      <td>False</td>\n",
       "      <td>us</td>\n",
       "      <td>uber-request-a-ride</td>\n",
       "    </tr>\n",
       "  </tbody>\n",
       "</table>\n",
       "</div>"
      ],
      "text/plain": [
       "   Unnamed: 0                 date           pseudoUserId        userName  \\\n",
       "0           0  2017-09-07 19:45:20  711916109592841231540        Re****II   \n",
       "1           1  2017-09-07 21:58:23  194634079301738577104        pl****02   \n",
       "2           2  2017-09-07 22:05:22  142799766719763824433  da**********re   \n",
       "3           3  2017-09-08 00:48:24  277271148707045434100    Na********uy   \n",
       "4           4  2017-09-08 01:38:01  129835059768817274330           Z***n   \n",
       "\n",
       "                                               title  \\\n",
       "0                                              Buggy   \n",
       "1                                      Deteriorating   \n",
       "2  Billed wrongly & Won't let me update my card i...   \n",
       "3                                         No to Uber   \n",
       "4                         Stop tracking all the time   \n",
       "\n",
       "                                              review  rating  isEdited  \\\n",
       "0  This app is rarely functional for being able t...       2     False   \n",
       "1  Uber is slowly deteriorating in terms of custo...       1     False   \n",
       "2  Horrible!!! Not user friendly! Does not allow ...       1     False   \n",
       "3  Another update (again). Still have to share my...       1      True   \n",
       "4  Listen to our feedback. Don't just give the ca...       1     False   \n",
       "\n",
       "  country      applicationName  \n",
       "0      us  uber-request-a-ride  \n",
       "1      us  uber-request-a-ride  \n",
       "2      us  uber-request-a-ride  \n",
       "3      us  uber-request-a-ride  \n",
       "4      us  uber-request-a-ride  "
      ]
     },
     "execution_count": 1,
     "metadata": {},
     "output_type": "execute_result"
    }
   ],
   "source": [
    "import pandas as pd\n",
    "df = pd.read_csv('US_APPLE_APPS_REVIEWS.csv')\n",
    "df.head()"
   ]
  },
  {
   "cell_type": "code",
   "execution_count": 2,
   "id": "b4de572c",
   "metadata": {},
   "outputs": [
    {
     "name": "stdout",
     "output_type": "stream",
     "text": [
      "<class 'pandas.core.frame.DataFrame'>\n",
      "RangeIndex: 174509 entries, 0 to 174508\n",
      "Data columns (total 10 columns):\n",
      " #   Column           Non-Null Count   Dtype \n",
      "---  ------           --------------   ----- \n",
      " 0   Unnamed: 0       174509 non-null  int64 \n",
      " 1   date             174509 non-null  object\n",
      " 2   pseudoUserId     174509 non-null  object\n",
      " 3   userName         174509 non-null  object\n",
      " 4   title            174499 non-null  object\n",
      " 5   review           174509 non-null  object\n",
      " 6   rating           174509 non-null  int64 \n",
      " 7   isEdited         174509 non-null  bool  \n",
      " 8   country          174509 non-null  object\n",
      " 9   applicationName  174509 non-null  object\n",
      "dtypes: bool(1), int64(2), object(7)\n",
      "memory usage: 12.1+ MB\n"
     ]
    }
   ],
   "source": [
    "df.info()"
   ]
  },
  {
   "cell_type": "code",
   "execution_count": 3,
   "id": "95cc4393",
   "metadata": {},
   "outputs": [],
   "source": [
    "df['date'] = pd.to_datetime(df['date'])"
   ]
  },
  {
   "cell_type": "code",
   "execution_count": 4,
   "id": "372f588d",
   "metadata": {},
   "outputs": [
    {
     "name": "stdout",
     "output_type": "stream",
     "text": [
      "<class 'pandas.core.frame.DataFrame'>\n",
      "RangeIndex: 174509 entries, 0 to 174508\n",
      "Data columns (total 10 columns):\n",
      " #   Column           Non-Null Count   Dtype         \n",
      "---  ------           --------------   -----         \n",
      " 0   Unnamed: 0       174509 non-null  int64         \n",
      " 1   date             174509 non-null  datetime64[ns]\n",
      " 2   pseudoUserId     174509 non-null  object        \n",
      " 3   userName         174509 non-null  object        \n",
      " 4   title            174499 non-null  object        \n",
      " 5   review           174509 non-null  object        \n",
      " 6   rating           174509 non-null  int64         \n",
      " 7   isEdited         174509 non-null  bool          \n",
      " 8   country          174509 non-null  object        \n",
      " 9   applicationName  174509 non-null  object        \n",
      "dtypes: bool(1), datetime64[ns](1), int64(2), object(6)\n",
      "memory usage: 12.1+ MB\n"
     ]
    }
   ],
   "source": [
    "df.info()"
   ]
  },
  {
   "cell_type": "code",
   "execution_count": 5,
   "id": "bbeff545",
   "metadata": {},
   "outputs": [
    {
     "name": "stdout",
     "output_type": "stream",
     "text": [
      "Number of rows and column :\n",
      "{10, 174509}\n",
      "Number of duplicate entries in the dataset are : \n",
      "0\n",
      "Number missing values in the dataset are : \n",
      "10\n"
     ]
    }
   ],
   "source": [
    "print('Number of rows and column :')\n",
    "print({df.shape[0], df.shape[1]})\n",
    "print('Number of duplicate entries in the dataset are : ')\n",
    "print(df.duplicated().sum())\n",
    "print('Number missing values in the dataset are : ')\n",
    "print(sum(df.isna().sum()))"
   ]
  },
  {
   "cell_type": "code",
   "execution_count": 6,
   "id": "9b90af69",
   "metadata": {},
   "outputs": [
    {
     "name": "stdout",
     "output_type": "stream",
     "text": [
      "Unnamed: 0          0\n",
      "date                0\n",
      "pseudoUserId        0\n",
      "userName            0\n",
      "title              10\n",
      "review              0\n",
      "rating              0\n",
      "isEdited            0\n",
      "country             0\n",
      "applicationName     0\n",
      "dtype: int64\n"
     ]
    }
   ],
   "source": [
    "print(df.isnull().sum())"
   ]
  },
  {
   "cell_type": "code",
   "execution_count": 7,
   "id": "b6a7d37c",
   "metadata": {},
   "outputs": [
    {
     "name": "stdout",
     "output_type": "stream",
     "text": [
      "Unnamed: 0         0\n",
      "date               0\n",
      "pseudoUserId       0\n",
      "userName           0\n",
      "title              0\n",
      "review             0\n",
      "rating             0\n",
      "isEdited           0\n",
      "country            0\n",
      "applicationName    0\n",
      "dtype: int64\n"
     ]
    }
   ],
   "source": [
    "df['title'].fillna('Not Specified', inplace=True)\n",
    "print(df.isnull().sum())"
   ]
  },
  {
   "cell_type": "code",
   "execution_count": 8,
   "id": "003a3b1f",
   "metadata": {},
   "outputs": [],
   "source": [
    "df.to_csv('US_APPSTORE_APPS_REVIEWS_CLEANED.csv')"
   ]
  },
  {
   "cell_type": "code",
   "execution_count": null,
   "id": "0149854c",
   "metadata": {},
   "outputs": [],
   "source": []
  }
 ],
 "metadata": {
  "kernelspec": {
   "display_name": "Python 3 (ipykernel)",
   "language": "python",
   "name": "python3"
  },
  "language_info": {
   "codemirror_mode": {
    "name": "ipython",
    "version": 3
   },
   "file_extension": ".py",
   "mimetype": "text/x-python",
   "name": "python",
   "nbconvert_exporter": "python",
   "pygments_lexer": "ipython3",
   "version": "3.11.5"
  }
 },
 "nbformat": 4,
 "nbformat_minor": 5
}
